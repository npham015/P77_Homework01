{
 "cells": [
  {
   "cell_type": "markdown",
   "metadata": {},
   "source": [
    "# Homework 1: Setup & Rounding Error\n",
    "Physics 177, Spring 2017  (Prof. Tanedo)  \n",
    "**Due**: Tuesday, April 18\n",
    "\n",
    "Nicholas Pham "
   ]
  },
  {
   "cell_type": "markdown",
   "metadata": {},
   "source": [
    "## Discussion\n",
    "\n",
    "Feel free to use whatever resources you need to get up to speed with the tools (Python, Jupyter, GitHub). You are encouraged to work with other students, especially for technical set up. Please note the following:\n",
    "* While you are free to discuss the problems, every line of code you type should be your own and *not* copied-and-pasted from anyone else. You should write your code without referring to anyone else.\n",
    "* We will penalize plagiarism harshly.\n"
   ]
  },
  {
   "cell_type": "markdown",
   "metadata": {},
   "source": [
    "## 1. Getting Set Up\n",
    "\n",
    "Set up **Python** on your system. Version 3.6 is preferred, but we shouldn't have any major problems if you're using an earlier 3.x version or 2.7.\n",
    "\n",
    "You are also responsible for setting up the **Jupyter** notebook (formerly iPython) environment. \n",
    "\n",
    "Sign up for a free **GitHub** account. The account should be associated with your UCR e-mail address. (You may also use an existing account.) All work for this course will be completed in Jupyter notebooks and submitted to GitHub. \n",
    "- I strongly suggest that you use a professional username. Your GitHub account is a de-facto resume/CV when you apply for jobs (both academic and industry).\n",
    "- I also suggest uploading a photo to help us learn your names.\n",
    "\n",
    "**Important**: send an e-mail to Prof. Tanedo and Corey Kownacki (TA). The subject of the e-mail should be *P177: Homework 1* and you should clearly indicate your GitHub username and the URL to your GitHub account. \n"
   ]
  },
  {
   "cell_type": "markdown",
   "metadata": {},
   "source": [
    "## 2. Cloning this notebook\n",
    "\n",
    "Homework, like this one, will be posted to the course GitHub:  \n",
    "https://github.com/orgs/Physics177-2017/  \n",
    "\n",
    "For those already familiar with GitHub, you can go ahead and fork a copy of this notebook. The instructions below are the \"round-about\" way of doing things.\n",
    "\n",
    "1. Download (\"clone\") this notebook to your own computer.\n",
    "\n",
    "2. Open your local copy of this notebook.\n",
    "\n",
    "3. Go to the top cell of this notebook and replace \"**Your Name**\" with your actual name. *Remark*: the anime film *Your Name* was recently released in US theaters. As of this writing, it has a 79% score on Metacritic.\n",
    "\n",
    "4. Save this notebook\n",
    "\n",
    "5. Create a new repository on GitHub called **P177_Homework01**. Initialize it with a **README.md** file, where you can briefly explain that this is Homework 1. Feel free to add any other comments in the README that you think are appropriate.\n",
    "\n",
    "6. Upload your local copy of this notebook to this repository. Be sure to write a brief note under **Commit changes**. Say something like \"initial upload.\"\n",
    "\n",
    "7. Make sure that the copy of your homework in your repository actually has your name on top. If not, troubleshoot."
   ]
  },
  {
   "cell_type": "markdown",
   "metadata": {},
   "source": [
    "## 3. Markdown Practice\n",
    "\n",
    "For this problem, I'd like you **create a markdown cell** just below this one and explore the markdown syntax. Use *Insert* > *Insert Cell Below* from this cell.\n",
    "\n",
    "Here's one useful reference:\n",
    "https://github.com/adam-p/markdown-here/wiki/Markdown-Cheatsheet\n",
    "\n",
    "I'd like you to include the following in this new cell:\n",
    "1. Create a subheading (using two hashtags) \n",
    "2. Create a list\n",
    "3. Use **boldface** and *italics*\n",
    "4. Your favorite equation, written in $\\LaTeX$\n",
    "5. Embed a YouTube trailer of the film *Your Name*. For this you may want to refer to http://stackoverflow.com/a/27315283. \n",
    "\n",
    "## Question 3 Response:This is a new Header that I made\n",
    "### List of Fruits and Vegetables\n",
    "\n",
    "1. Apples\n",
    "2. Bananas\n",
    "3. Carrots\n",
    "4. I can't think of a fruit/vegetable that starts with 'D'\n",
    "\n",
    "**Dates** are *fruits*, I think\n",
    "\n",
    "Well, here is my favorite equation:\n",
    "\n",
    "$ \\partial G = V\\partial P - S\\partial T + \\displaystyle\\sum_{i}^{n} \\left( \\frac{\\partial G}{ \\partial N_{i}}\\right )_{T,P}     dN_{i}$\n",
    "\n",
    "where $  \\left( \\frac{\\partial G}{ \\partial N_{i}}\\right )_{T,P} $ is $\\mu_{i}$ , the chemical potential for each unique chemical species\n",
    "\n",
    "*This this Gibb's modified equation for binary phase equilibria calculations.*\n",
    "\n",
    "...And this is the trailer of the film *Your Name*. Click on it to watch!\n",
    "\n",
    "[![IMAGE ALT TEXT HERE](http://img.youtube.com/vi/s0wTdCQoc2k/0.jpg)](http://www.youtube.com/watch?v=s0wTdCQoc2k)\n"
   ]
  },
  {
   "cell_type": "markdown",
   "metadata": {},
   "source": [
    "## 4. Simpson's Rule\n",
    "In class we built a simple Riemann sum integrator. The code that we wrote together is posted here:\n",
    "https://github.com/Physics177-2017/Lec03-Rounding-Error\n",
    "\n",
    "In this problem, please perform the *same* analysis on the *same* test function using **Simpson's rule**. \n",
    "\n",
    "What's that? Well, you'll have to read a little about it. You can find a discussion in section 5.1.2 of the course textbook (Newman, *Computational Physics*, 2nd ed.). For those who do not have a copy, you can find a discussion in Chapter 3 of Stickler's *Basic concepts in computational physics*, which is available electronically through the UCR library here: http://scotty.ucr.edu/record=b5077839~S5 (click on \"Connect to: SpringerLink\")\n",
    "\n",
    "Create a cell below this one and do the following:\n",
    "1. Create an \"integrator\" function that takes in a function and a spacing, $\\Delta x$, and outputs the integral of that function from 0 .to 1 using Simpson's rule.\n",
    "\n",
    "2. Use the same test function that we did in lecture: $$f(x) = 3.0\\times 10^{-10} x^2.$$\n",
    "\n",
    "3. Find the error on your algorithm (compared to the exact result) for $\\Delta x$ of $10^{-1}, \\cdots, 10^{-7}$.\n",
    "\n",
    "4. Compare this to the errors that we found using the Riemann sum. Are they better? Worse? What happens as we approach the \"$10^{-16}$\" numerical precision?"
   ]
  },
  {
   "cell_type": "markdown",
   "metadata": {},
   "source": [
    "## Question 4 Response\n",
    "1."
   ]
  },
  {
   "cell_type": "code",
   "execution_count": 5,
   "metadata": {
    "collapsed": true
   },
   "outputs": [],
   "source": [
    "def integrator(f,deltax):\n",
    "    \"\"\"This function integrates from 0 to 1 using Simpson's Rule\"\"\"\n",
    "    count = 0.0\n",
    "    summation = 0.0\n",
    "    while (count < 1.0):\n",
    "        summation = summation +  f(count) + 4*f(count + deltax) + f(count + 2*deltax)\n",
    "        count = count + 2*deltax\n",
    "    coefficent = deltax/3.0\n",
    "    integral = coefficent * summation\n",
    "    return integral"
   ]
  },
  {
   "cell_type": "markdown",
   "metadata": {},
   "source": [
    "2."
   ]
  },
  {
   "cell_type": "code",
   "execution_count": 3,
   "metadata": {
    "collapsed": false
   },
   "outputs": [],
   "source": [
    "def f(x):\n",
    "    \"\"\"This is a sample function for testing\"\"\"\n",
    "    return 3.0E-10*(x**2)\n",
    "\n",
    "def error(deltax):\n",
    "    \"\"\"This calculates the error from the expected value due to rounding error\"\"\"\n",
    "    return (integrator(f,deltax) - 1.0E-10)"
   ]
  },
  {
   "cell_type": "markdown",
   "metadata": {},
   "source": [
    "3."
   ]
  },
  {
   "cell_type": "code",
   "execution_count": 77,
   "metadata": {
    "collapsed": false,
    "scrolled": false
   },
   "outputs": [
    {
     "name": "stdout",
     "output_type": "stream",
     "text": [
      "0.1 1.2924697071141057e-26\n",
      "0.01 1.4217166778255163e-25\n",
      "0.001 0.0\n",
      "0.0001 6.001200078745475e-14\n",
      "1e-05 1.1733040001181852e-22\n",
      "1e-06 5.999996555154413e-16\n",
      "1e-07 5.137205194260578e-21\n"
     ]
    }
   ],
   "source": [
    "listofstepsizes = [0.1, 1E-2, 1E-3, 1E-4, 1E-5, 1E-6, 1E-7]\n",
    "for index in listofstepsizes:\n",
    "    print(index ,error(index))"
   ]
  },
  {
   "cell_type": "markdown",
   "metadata": {},
   "source": [
    "4."
   ]
  },
  {
   "cell_type": "markdown",
   "metadata": {},
   "source": [
    "The errors are much smaller than the Riemann Sum method. Also, the variation by changing the step size is varies much less pronouced than the Riemann sum method. Generally, the error is much better, but there is not a common trend as the step size decreases. However, there is a point after $1\\times 10^{-03}$ where $0.0$ to $6.0\\times 10^{-14}$. This must be the precision limit, where multiplied numbers are therefore rounded to the nearest binary equivalent due to lack of bit space. When adding multiple times, this error grows and produces an error. It is clear that there is no trend in error once it passes the precision limit. "
   ]
  },
  {
   "cell_type": "markdown",
   "metadata": {},
   "source": [
    "## 5. Thinking about rounding errors\n",
    "\n",
    "In your own words, explain what's happening in the following cell:\n",
    "\n",
    "When a decimal number is converted and stored as a binary entity, it only has a finite amount of bits that the computer can allocate to store a value. When adding these values together, there is a chance for rounding errors to appear, and at times, mathematical statements that are empirically correct are labeled incorrect by the computer due to lack of float precision."
   ]
  },
  {
   "cell_type": "code",
   "execution_count": 15,
   "metadata": {
    "collapsed": false,
    "scrolled": false
   },
   "outputs": [
    {
     "data": {
      "text/plain": [
       "False"
      ]
     },
     "execution_count": 15,
     "metadata": {},
     "output_type": "execute_result"
    }
   ],
   "source": [
    "0.1+0.1+0.1 == .3"
   ]
  },
  {
   "cell_type": "markdown",
   "metadata": {},
   "source": [
    "In a new cell below this one, explain why the above result is not surprising. What happens if you sum $0.1+0.1$ and compare it to $0.2$? Explain this."
   ]
  },
  {
   "cell_type": "markdown",
   "metadata": {},
   "source": [
    "In general, adding float types and applying them to booleans is dangerous because of the procedure in which the computer stores the information. However, in this case, Python uses IEEE-754 encoding, which represents decimal numbers in an binary coefficient and exponent notation.\n",
    "\n",
    "When this block of code runs in the Python interpreter, the left hand side of this statment starts by adding $0.1 + 0.1 = 0.2$ to achieve an intermediate value, which is then rounded to the nearest binary entity. The next step the interpreter takes is adding the last $0.1$ to the intermediate rounded value to obtain a final value. On the right hand side, the value $0.3$ is directly encoded and rounded to the nearest binary value. When the interpreter runs the boolean to check equality, it is not surprising that it returns false, as the accuracy near the precision limit is what causes the error.\n",
    "\n",
    "Since $0.1$ is really not $0.1$ according to the computer, it is unlikely that adding three units of this will produce $0.3$."
   ]
  },
  {
   "cell_type": "code",
   "execution_count": 16,
   "metadata": {
    "collapsed": false
   },
   "outputs": [
    {
     "data": {
      "text/plain": [
       "True"
      ]
     },
     "execution_count": 16,
     "metadata": {},
     "output_type": "execute_result"
    }
   ],
   "source": [
    "0.1 + 0.1 == 0.2"
   ]
  },
  {
   "cell_type": "markdown",
   "metadata": {},
   "source": [
    "Because of the manner in which the decimal digit is stored (as a base and exponent notation), is it possible that it could be easier that when adding 2 quantities, you minimize the chance for a rounding error. Moreover, since the number is stored as a base 2 (binary) quantity, it could also minimize rounding error. What should happen is:\n",
    "\n",
    "$(base) \\times 2^{mantissa} = 0.1$\n",
    "\n",
    "$0.1 + 0.1 = 2 \\times (base) \\times 2^{mantissa}$\n",
    "\n",
    "$ 0.2 = (base) \\times 2^{mantissa + 1} $\n",
    "\n",
    "Therefore, in this particular example, the base number does not have to change, but only the mantissa. By only varying one of the two arguements, it could definately minimize error and produce a **True** statement."
   ]
  },
  {
   "cell_type": "markdown",
   "metadata": {},
   "source": [
    "## X1. [Extra Credit] \n",
    "\n",
    "INSPIRE is a database of papers in high-energy physics, you can find it here: http://inspirehep.net\n",
    "\n",
    "Write a script in Jupyter that takes a string and opens up a web browser with an INSPIRE search for that string."
   ]
  },
  {
   "cell_type": "code",
   "execution_count": 10,
   "metadata": {
    "collapsed": false
   },
   "outputs": [],
   "source": [
    "import webbrowser\n",
    "#To help with opening a URL\n",
    "\n",
    "def inspireSearch(string):\n",
    "    \"\"\"This function will ouput a link to a search in the INSPIRE database. Prints 'Done' when successful\"\"\"\n",
    "    #Transform a string to a list of characters\n",
    "    charlist = list(string)\n",
    "    #Change all of the spaces to '+' signs to input into URL\n",
    "    for characterindex in range(len(charlist)):\n",
    "        if charlist[characterindex] == ' ':\n",
    "            charlist[characterindex] = '+'\n",
    "    #Transform our list of characters back to a string\n",
    "    editedstring = ''.join(charlist)\n",
    "    webbrowser.open('http://inspirehep.net/search?ln=en&ln=en&p=' + editedstring + '&of=hb&action_search=Search&sf=earliestdate&so=d&rm=&rg=25&sc=0')\n",
    "    return 'Done'"
   ]
  },
  {
   "cell_type": "code",
   "execution_count": 45,
   "metadata": {
    "collapsed": false
   },
   "outputs": [
    {
     "data": {
      "text/plain": [
       "'Done'"
      ]
     },
     "execution_count": 45,
     "metadata": {},
     "output_type": "execute_result"
    }
   ],
   "source": [
    "inspireSearch('quarks high energy')"
   ]
  },
  {
   "cell_type": "code",
   "execution_count": null,
   "metadata": {
    "collapsed": true
   },
   "outputs": [],
   "source": []
  }
 ],
 "metadata": {
  "kernelspec": {
   "display_name": "Python 3",
   "language": "python",
   "name": "python3"
  },
  "language_info": {
   "codemirror_mode": {
    "name": "ipython",
    "version": 3
   },
   "file_extension": ".py",
   "mimetype": "text/x-python",
   "name": "python",
   "nbconvert_exporter": "python",
   "pygments_lexer": "ipython3",
   "version": "3.6.0"
  }
 },
 "nbformat": 4,
 "nbformat_minor": 1
}
